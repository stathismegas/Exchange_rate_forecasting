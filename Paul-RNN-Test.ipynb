{
 "cells": [
  {
   "cell_type": "code",
   "execution_count": 1,
   "id": "recreational-admission",
   "metadata": {
    "scrolled": true
   },
   "outputs": [
    {
     "name": "stderr",
     "output_type": "stream",
     "text": [
      "C:\\Users\\lkkcp\\anaconda3\\envs\\tf7\\lib\\site-packages\\tensorflow\\python\\framework\\dtypes.py:516: FutureWarning: Passing (type, 1) or '1type' as a synonym of type is deprecated; in a future version of numpy, it will be understood as (type, (1,)) / '(1,)type'.\n",
      "  _np_qint8 = np.dtype([(\"qint8\", np.int8, 1)])\n",
      "C:\\Users\\lkkcp\\anaconda3\\envs\\tf7\\lib\\site-packages\\tensorflow\\python\\framework\\dtypes.py:517: FutureWarning: Passing (type, 1) or '1type' as a synonym of type is deprecated; in a future version of numpy, it will be understood as (type, (1,)) / '(1,)type'.\n",
      "  _np_quint8 = np.dtype([(\"quint8\", np.uint8, 1)])\n",
      "C:\\Users\\lkkcp\\anaconda3\\envs\\tf7\\lib\\site-packages\\tensorflow\\python\\framework\\dtypes.py:518: FutureWarning: Passing (type, 1) or '1type' as a synonym of type is deprecated; in a future version of numpy, it will be understood as (type, (1,)) / '(1,)type'.\n",
      "  _np_qint16 = np.dtype([(\"qint16\", np.int16, 1)])\n",
      "C:\\Users\\lkkcp\\anaconda3\\envs\\tf7\\lib\\site-packages\\tensorflow\\python\\framework\\dtypes.py:519: FutureWarning: Passing (type, 1) or '1type' as a synonym of type is deprecated; in a future version of numpy, it will be understood as (type, (1,)) / '(1,)type'.\n",
      "  _np_quint16 = np.dtype([(\"quint16\", np.uint16, 1)])\n",
      "C:\\Users\\lkkcp\\anaconda3\\envs\\tf7\\lib\\site-packages\\tensorflow\\python\\framework\\dtypes.py:520: FutureWarning: Passing (type, 1) or '1type' as a synonym of type is deprecated; in a future version of numpy, it will be understood as (type, (1,)) / '(1,)type'.\n",
      "  _np_qint32 = np.dtype([(\"qint32\", np.int32, 1)])\n",
      "C:\\Users\\lkkcp\\anaconda3\\envs\\tf7\\lib\\site-packages\\tensorflow\\python\\framework\\dtypes.py:525: FutureWarning: Passing (type, 1) or '1type' as a synonym of type is deprecated; in a future version of numpy, it will be understood as (type, (1,)) / '(1,)type'.\n",
      "  np_resource = np.dtype([(\"resource\", np.ubyte, 1)])\n",
      "C:\\Users\\lkkcp\\anaconda3\\envs\\tf7\\lib\\site-packages\\tensorboard\\compat\\tensorflow_stub\\dtypes.py:541: FutureWarning: Passing (type, 1) or '1type' as a synonym of type is deprecated; in a future version of numpy, it will be understood as (type, (1,)) / '(1,)type'.\n",
      "  _np_qint8 = np.dtype([(\"qint8\", np.int8, 1)])\n",
      "C:\\Users\\lkkcp\\anaconda3\\envs\\tf7\\lib\\site-packages\\tensorboard\\compat\\tensorflow_stub\\dtypes.py:542: FutureWarning: Passing (type, 1) or '1type' as a synonym of type is deprecated; in a future version of numpy, it will be understood as (type, (1,)) / '(1,)type'.\n",
      "  _np_quint8 = np.dtype([(\"quint8\", np.uint8, 1)])\n",
      "C:\\Users\\lkkcp\\anaconda3\\envs\\tf7\\lib\\site-packages\\tensorboard\\compat\\tensorflow_stub\\dtypes.py:543: FutureWarning: Passing (type, 1) or '1type' as a synonym of type is deprecated; in a future version of numpy, it will be understood as (type, (1,)) / '(1,)type'.\n",
      "  _np_qint16 = np.dtype([(\"qint16\", np.int16, 1)])\n",
      "C:\\Users\\lkkcp\\anaconda3\\envs\\tf7\\lib\\site-packages\\tensorboard\\compat\\tensorflow_stub\\dtypes.py:544: FutureWarning: Passing (type, 1) or '1type' as a synonym of type is deprecated; in a future version of numpy, it will be understood as (type, (1,)) / '(1,)type'.\n",
      "  _np_quint16 = np.dtype([(\"quint16\", np.uint16, 1)])\n",
      "C:\\Users\\lkkcp\\anaconda3\\envs\\tf7\\lib\\site-packages\\tensorboard\\compat\\tensorflow_stub\\dtypes.py:545: FutureWarning: Passing (type, 1) or '1type' as a synonym of type is deprecated; in a future version of numpy, it will be understood as (type, (1,)) / '(1,)type'.\n",
      "  _np_qint32 = np.dtype([(\"qint32\", np.int32, 1)])\n",
      "C:\\Users\\lkkcp\\anaconda3\\envs\\tf7\\lib\\site-packages\\tensorboard\\compat\\tensorflow_stub\\dtypes.py:550: FutureWarning: Passing (type, 1) or '1type' as a synonym of type is deprecated; in a future version of numpy, it will be understood as (type, (1,)) / '(1,)type'.\n",
      "  np_resource = np.dtype([(\"resource\", np.ubyte, 1)])\n"
     ]
    }
   ],
   "source": [
    "import numpy as np\n",
    "import matplotlib.pyplot as plt\n",
    "\n",
    "import tensorflow as tf\n",
    "from tensorflow import keras\n",
    "import tensorflow.keras.models as models\n",
    "import tensorflow.keras.layers as layers\n",
    "from tensorflow.keras.regularizers import l1\n",
    "from tensorflow.keras.regularizers import l2"
   ]
  },
  {
   "cell_type": "code",
   "execution_count": 5,
   "id": "fuzzy-saying",
   "metadata": {},
   "outputs": [
    {
     "data": {
      "text/plain": [
       "<module 'readcsv1' from 'C:\\\\Users\\\\lkkcp\\\\Desktop\\\\NeuralNetwork\\\\ECE247-project-main\\\\readcsv1.py'>"
      ]
     },
     "execution_count": 5,
     "metadata": {},
     "output_type": "execute_result"
    }
   ],
   "source": [
    "import importlib\n",
    "importlib.reload(readcsv1)\n",
    "### forsome reason it doesn't autoreload the python files"
   ]
  },
  {
   "cell_type": "code",
   "execution_count": 6,
   "id": "martial-sheriff",
   "metadata": {},
   "outputs": [],
   "source": [
    "## strange error only on macOS apparently \n",
    "## https://github.com/dmlc/xgboost/issues/1715\n",
    "import os\n",
    "os.environ['KMP_DUPLICATE_LIB_OK']='True'"
   ]
  },
  {
   "cell_type": "code",
   "execution_count": 30,
   "id": "signed-patent",
   "metadata": {
    "scrolled": true
   },
   "outputs": [
    {
     "name": "stdout",
     "output_type": "stream",
     "text": [
      "0 Data/000-EuroPerDollar(USDEUR).csv Close\n",
      "1 Data/000-EuroPerDollar(USDEUR).csv Open\n",
      "2 Data/000-EuroPerDollar(USDEUR).csv High\n",
      "3 Data/000-EuroPerDollar(USDEUR).csv Low\n",
      "4 Data/Bond-Germany2-yearNoteYield(IGDEU2D).csv Close\n",
      "5 Data/Bond-Germany9-yearNoteYield(IGDEU9D).csv Close\n",
      "6 Data/Bond-MoodyBAA(MOCBAAD).csv Close\n",
      "7 Data/Bond-US10-yearBondYield(IGUSA10D).csv Close\n",
      "8 Data/Bond-US2-yearNoteYield(IGUSA2D).csv Close\n",
      "9 Data/Commod-GoldPrice(__XAU_D).csv Close\n",
      "10 Data/Commod-GoldPrice(__XAU_D).csv Open\n",
      "11 Data/Commod-GoldPrice(__XAU_D).csv High\n",
      "12 Data/Commod-GoldPrice(__XAU_D).csv Low\n",
      "13 Data/Commod-OilPrice(__WTC_D).csv Close\n",
      "14 Data/Commod-OilPrice(__WTC_D).csv Open\n",
      "15 Data/Commod-OilPrice(__WTC_D).csv High\n",
      "16 Data/Commod-OilPrice(__WTC_D).csv Low\n",
      "17 Data/Commod-ReutersCRBIndex(_TRCCRBD).csv Close\n",
      "18 Data/Commod-ReutersCRBIndex(_TRCCRBD).csv Open\n",
      "19 Data/Commod-ReutersCRBIndex(_TRCCRBD).csv High\n",
      "20 Data/Commod-ReutersCRBIndex(_TRCCRBD).csv Low\n",
      "21 Data/Commod-ReutersCRBIndustrialRaw(CMCRBIND).csv Close\n",
      "22 Data/Commod-ReutersCRBmetal(CMCRBMED).csv Close\n",
      "23 Data/Employ-EuropeUnemploymentRate(UNEUR19M).csv Close\n",
      "24 Data/Employ-USInitialClaimsForUnemploymentInsurance(USICSAM).csv Close\n",
      "25 Data/Employ-USTotalNonfarmPayroll(USPAYEMSM).csv Close\n",
      "26 Data/Employ-USUnemploymentRate(UNUSAM).csv Close\n",
      "27 Data/ExRate-DollarNominalEffectiveExchangeRate(XRNUSAM).csv Close\n",
      "28 Data/ExRate-EuroNominalEffectiveExchangeRate(XRNEURM).csv Close\n",
      "29 Data/ExRate-PoundPerDollar(USDGBP).csv Close\n",
      "30 Data/ExRate-PoundPerDollar(USDGBP).csv Open\n",
      "31 Data/ExRate-PoundPerDollar(USDGBP).csv High\n",
      "32 Data/ExRate-PoundPerDollar(USDGBP).csv Low\n",
      "33 Data/ExRate-YenPerDollar(USDJPY).csv Close\n",
      "34 Data/ExRate-YenPerDollar(USDJPY).csv Open\n",
      "35 Data/ExRate-YenPerDollar(USDJPY).csv High\n",
      "36 Data/ExRate-YenPerDollar(USDJPY).csv Low\n",
      "37 Data/ImportExport-EuropeExport(NE.EXP.GNFS.KD.EUU).csv Close\n",
      "38 Data/ImportExport-EuropeImport(NE.IMP.GNFS.KD.EUU).csv Close\n",
      "39 Data/ImportExport-GermanExportsGoods(TDGXDEUM).csv Close\n",
      "40 Data/ImportExport-GermanImportsGoods(TDGMDEUM).csv Close\n",
      "41 Data/ImportExport-USExport(TDGXUSAM).csv Close\n",
      "42 Data/ImportExport-USImport(TDGMUSAM).csv Close\n",
      "43 Data/Inflation-EuropeConsumerPriceIndex(CPEUR12M).csv Close\n",
      "44 Data/Inflation-EuropeProducerPriceIndex(WPEUROPM).csv Close\n",
      "45 Data/Inflation-USConsumerPriceIndex(CPUSAM).csv Close\n",
      "46 Data/Inflation-USConsumerPriceIndexLessFoodEnergy(USCPILFESLM).csv Close\n",
      "47 Data/Inflation-USProducerPriceIndex(WPUSAM).csv Close\n",
      "48 Data/Product-EuroAreaConsumerConfidenceIndex(CCEURM).csv Close\n",
      "49 Data/Product-EuropeGDP(NY.GDP.MKTP.CD.EUU).csv Close\n",
      "50 Data/Product-EuropeGDPGrowth(NY.GDP.MKTP.KD.ZG.EUU).csv Close\n",
      "51 Data/Product-GermanyIndustrialProductionIndex(NDDEUM).csv Close\n",
      "52 Data/Product-GermanyMarkitIndex(PMIDEUM).csv Close\n",
      "53 Data/Product-USConsumerConfidenceIndex(CCUSAM).csv Close\n",
      "54 Data/Product-USConsumerSentiment(USUMCSENTM).csv Close\n",
      "55 Data/Product-USGDP(NY.GDP.MKTP.CD.USA).csv Close\n",
      "56 Data/Product-USGDPGrowth(NY.GDP.MKTP.KD.ZG.USA).csv Close\n",
      "57 Data/Product-USGDPNominal(GDPUSA).csv Close\n",
      "58 Data/Product-USManufacturerOrdersDurableGoods(USDGORDERM).csv Close\n",
      "59 Data/Product-USMarkitIndex(PMIUSAM).csv Close\n",
      "60 Data/Product-USRetailSales(USRRSFSM).csv Close\n",
      "61 Data/Product-UnitedStatesIndustrialProductionIndex(USINDPROM).csv Close\n",
      "62 Data/Stocks-GermanyDAXPriceIndex(_GDAXIPD).csv Close\n",
      "63 Data/Stocks-GermanyDAXPriceIndex(_GDAXIPD).csv Open\n",
      "64 Data/Stocks-GermanyDAXPriceIndex(_GDAXIPD).csv High\n",
      "65 Data/Stocks-GermanyDAXPriceIndex(_GDAXIPD).csv Low\n",
      "66 Data/Stocks-S&P500CompositePriceIndex(_SPXD).csv Close\n",
      "67 Data/Stocks-S&P500CompositePriceIndex(_SPXD).csv Open\n",
      "68 Data/Stocks-S&P500CompositePriceIndex(_SPXD).csv High\n",
      "69 Data/Stocks-S&P500CompositePriceIndex(_SPXD).csv Low\n",
      "70 Data/Stocks-ShanghaiSECompositePriceIndex(_SSECD).csv Close\n",
      "71 Data/Stocks-ShanghaiSECompositePriceIndex(_SSECD).csv Open\n",
      "72 Data/Stocks-ShanghaiSECompositePriceIndex(_SSECD).csv High\n",
      "73 Data/Stocks-ShanghaiSECompositePriceIndex(_SSECD).csv Low\n",
      "74 Data/Stocks-SwitzerlandPriceIndex(_SPIXD).csv Close\n",
      "75 Data/Stocks-SwitzerlandPriceIndex(_SPIXD).csv Open\n",
      "76 Data/Stocks-SwitzerlandPriceIndex(_SPIXD).csv High\n",
      "77 Data/Stocks-SwitzerlandPriceIndex(_SPIXD).csv Low\n",
      "78 Data/Stocks-UKFTSEAll-ShareIndex(_FTASD).csv Close\n",
      "79 Data/Stocks-UKFTSEAll-ShareIndex(_FTASD).csv Open\n",
      "80 Data/Stocks-UKFTSEAll-ShareIndex(_FTASD).csv High\n",
      "81 Data/Stocks-UKFTSEAll-ShareIndex(_FTASD).csv Low\n",
      "82 Data/Stocks-VIX(_VIXD).csv Close\n",
      "83 Data/Treasury-Germany1-MonthTreasuryBondYield(ITDEU1D).csv Close\n",
      "84 Data/Treasury-Germany3-MonthTreasuryBondYield(ITDEU3D).csv Close\n",
      "85 Data/Treasury-US1-MonthTreasuryBillYield(ITUSA1D).csv Close\n",
      "86 Data/Treasury-US3-MonthTreasuryBillYield(ITUSA3CMD).csv Close\n",
      "(8750, 87)\n"
     ]
    }
   ],
   "source": [
    "## get data, just Close values\n",
    "#importlib.reload(readcsv1)\n",
    "import readcsv1\n",
    "fulldata = readcsv1.get_data(start = '1997-01-17',verbose=True,normalize=True).astype(np.float32)\n",
    "print(fulldata.shape)"
   ]
  },
  {
   "cell_type": "code",
   "execution_count": 31,
   "id": "metropolitan-priority",
   "metadata": {},
   "outputs": [
    {
     "data": {
      "text/plain": [
       "(8750, 4)"
      ]
     },
     "execution_count": 31,
     "metadata": {},
     "output_type": "execute_result"
    }
   ],
   "source": [
    "## indicators to use when training\n",
    "\n",
    "smalllist =[0,1,2,3]\n",
    "#data = fulldata[:,keeplist]\n",
    "data = fulldata[:,smalllist]\n",
    "data.shape"
   ]
  },
  {
   "cell_type": "markdown",
   "id": "creative-walker",
   "metadata": {},
   "source": [
    "# First trial, the data is just Open Close High Low of US-Euro Exchange rate"
   ]
  },
  {
   "cell_type": "code",
   "execution_count": 29,
   "id": "industrial-reduction",
   "metadata": {},
   "outputs": [
    {
     "data": {
      "image/png": "[encoded data removed]",
      "text/plain": [
       "<Figure size 432x288 with 1 Axes>"
      ]
     },
     "metadata": {
      "needs_background": "light"
     },
     "output_type": "display_data"
    }
   ],
   "source": [
    "## visualize data\n",
    "plt.plot(data[:, 0])\n",
    "plt.show()"
   ]
  },
  {
   "cell_type": "code",
   "execution_count": 43,
   "id": "northern-population",
   "metadata": {
    "scrolled": true
   },
   "outputs": [
    {
     "data": {
      "image/png": "[encoded data removed]",
      "text/plain": [
       "<Figure size 432x288 with 1 Axes>"
      ]
     },
     "metadata": {
      "needs_background": "light"
     },
     "output_type": "display_data"
    },
    {
     "name": "stdout",
     "output_type": "stream",
     "text": [
      "Some examples of differences [ 0.01060003  0.01060003  0.01060003  0.00559998  0.00310004  0.00730002\n",
      "  0.00220001 -0.00120002 -0.00120002 -0.00120002  0.0025     -0.0007\n",
      " -0.00339997 -0.0029      0.00239998  0.00239998  0.00239998 -0.00099999\n",
      "  0.00260001 -0.00190002]\n",
      "Some examples of the labels [ True  True  True  True  True  True  True False False False  True False\n",
      " False False  True  True  True False  True False]\n",
      "0.4850285714285714 fraction of data has positive difference\n",
      "0.5149714285714286 fraction of data has difference <= 0 \n"
     ]
    }
   ],
   "source": [
    "## Just predict if the price difference is >0 or not. \n",
    "\n",
    "diff = data[:,0]-data[:,1]  # close minus open\n",
    "plt.plot(diff)   ##The differences are zero before year 1997-01-17\n",
    "plt.show()\n",
    "y = diff > 0\n",
    "\n",
    "print('Some examples of differences', diff[0:20])\n",
    "print('Some examples of the labels', y[0:20])\n",
    "\n",
    "print(np.count_nonzero(y)/y.size, 'fraction of data has positive difference')\n",
    "print(1-np.count_nonzero(y)/y.size, 'fraction of data has difference <= 0 ')"
   ]
  },
  {
   "cell_type": "code",
   "execution_count": 44,
   "id": "printable-johnston",
   "metadata": {},
   "outputs": [
    {
     "name": "stdout",
     "output_type": "stream",
     "text": [
      "(7, 50, 4)\n",
      "(7, 1)\n"
     ]
    }
   ],
   "source": [
    "def generate_batches(data, label, batch_size, learn_window, predict_window, seed=None):\n",
    "    \"\"\"\n",
    "    Randomly generate batches of windows, with replacement.\n",
    "    \n",
    "    - data: array, shape = (N, C)\n",
    "    - batch_size: integer\n",
    "    - learn_window: array of indices to learn from.\n",
    "    - predict_window: array of indices to predict.\n",
    "    - seed: seed for RNG, if any\n",
    "    \n",
    "    e.g. if learn_window = [0, 1, 2, ..., 9] and predict_window = [0, 1, 2, 3, 4],\n",
    "    then learn on 10 days and try to predict next 5 days.\n",
    "    \n",
    "    returns: generator that yields random (X, y)\n",
    "    - X_batch: shape = (B, len(learn_window), C)\n",
    "    - y_batch: shape = (B, len(predict_window))\n",
    "    \"\"\"\n",
    "    \n",
    "    if seed != None:\n",
    "        np.random.seed(seed)\n",
    "        \n",
    "    learn_window = np.array(learn_window)\n",
    "    num_classes = np.array(predict_window)\n",
    "    \n",
    "    N, C = data.shape\n",
    "    L, P = len(learn_window), len(predict_window)\n",
    "    Lcap, Pcap = int(np.max(learn_window))+1, int(np.max(predict_window))+1\n",
    "    \n",
    "    X = np.zeros((batch_size, L, C))\n",
    "    y = np.zeros((batch_size, P))\n",
    "    \n",
    "    i = 0 # tracks index\n",
    "    k = 0 # tracks batch size\n",
    "    M = N - Lcap - Pcap # ceiling for i\n",
    "    while True:\n",
    "        \n",
    "        if k == batch_size:\n",
    "            k = 0\n",
    "            yield X, y\n",
    "            \n",
    "        i = np.random.randint(0, M)\n",
    "        X[k] = data[i+learn_window,:]\n",
    "        y[k] = label[i+Lcap+predict_window] \n",
    "        \n",
    "        k += 1\n",
    "\n",
    "        \n",
    "## short test; should not throw error\n",
    "G = generate_batches(data, y, 7, np.arange(50), np.arange(1))\n",
    "\n",
    "X_batch, y_batch = next(G)\n",
    "print(X_batch.shape)\n",
    "print(y_batch.shape)"
   ]
  },
  {
   "cell_type": "code",
   "execution_count": 45,
   "id": "looking-trigger",
   "metadata": {},
   "outputs": [
    {
     "name": "stdout",
     "output_type": "stream",
     "text": [
      "Training: (7250, 4)\n",
      "Testing: (500, 4)\n",
      "Validation: (1000, 4)\n"
     ]
    }
   ],
   "source": [
    "## split into training, validation, and testing sets\n",
    "data_train = data[:-1500, :]\n",
    "y_train = y[:-1500]\n",
    "data_val = data[-1500:-500, :]\n",
    "y_val=y[-1500:-500]\n",
    "data_test = data[-500:,:]\n",
    "y_test = y[-500:]\n",
    "print(\"Training:\", data_train.shape)\n",
    "print(\"Testing:\", data_test.shape)\n",
    "print(\"Validation:\", data_val.shape)"
   ]
  },
  {
   "cell_type": "code",
   "execution_count": 70,
   "id": "instrumental-cancer",
   "metadata": {},
   "outputs": [
    {
     "name": "stdout",
     "output_type": "stream",
     "text": [
      "Model: \"sequential_4\"\n",
      "_________________________________________________________________\n",
      "Layer (type)                 Output Shape              Param #   \n",
      "=================================================================\n",
      "gru_4 (GRU)                  (None, 100)               31500     \n",
      "_________________________________________________________________\n",
      "dense_4 (Dense)              (None, 2)                 202       \n",
      "=================================================================\n",
      "Total params: 31,702\n",
      "Trainable params: 31,702\n",
      "Non-trainable params: 0\n",
      "_________________________________________________________________\n"
     ]
    }
   ],
   "source": [
    "## ===== model hyperparameters ======================\n",
    "learn_window = np.arange(40)    ## learn from past 40 days, which is two month. \n",
    "predict_window = np.arange(1)   ## predict next day\n",
    "\n",
    "batch_size = 50\n",
    "initial_learning_rate = 1e-4   \n",
    "decay_steps = 300\n",
    "decay_rate = 0.9\n",
    "L1reg = 0.001\n",
    "L2reg = 0.001\n",
    "drop_prob = 0.2\n",
    "\n",
    "## ==================================================\n",
    "\n",
    "_, C = data_train.shape\n",
    "L, P = len(learn_window), len(predict_window)\n",
    "\n",
    "lr_schedule = keras.optimizers.schedules.ExponentialDecay(\n",
    "    initial_learning_rate=initial_learning_rate, \n",
    "    decay_steps=decay_steps, \n",
    "    decay_rate=decay_rate)\n",
    "opt = keras.optimizers.Adam(learning_rate=lr_schedule)\n",
    "#opt = keras.optimizers.Adam(learning_rate=initial_learning_rate)\n",
    "\n",
    "model_1d = models.Sequential()\n",
    "model_1d.add(layers.GRU(100, input_shape=(L, C)))\n",
    "model_1d.add(layers.Dense(2, kernel_regularizer = keras.regularizers.l2(L2reg), activation='softmax')) #2 output categories\n",
    "model_1d.compile(optimizer=opt, loss=keras.losses.SparseCategoricalCrossentropy(), metrics = ['accuracy'])\n",
    "model_1d.summary()\n",
    "\n",
    "## Add dropout?\n",
    "## Add regularization? "
   ]
  },
  {
   "cell_type": "code",
   "execution_count": 71,
   "id": "external-origin",
   "metadata": {},
   "outputs": [
    {
     "data": {
      "text/plain": [
       "array([1, 1, 1, 1, 1, 1, 1, 1, 1, 1, 1, 1, 1, 1, 1, 1, 1, 1, 1, 1, 1, 1,\n",
       "       1, 1, 1, 1, 1, 1, 1, 1, 1, 1, 1, 1, 1, 1, 1, 1, 1, 1, 1, 1, 1, 1,\n",
       "       1, 1, 1, 1, 1, 1, 1, 1, 1, 1, 1, 1, 1, 1, 1, 1, 1, 1, 1, 1, 1, 1,\n",
       "       1, 1, 1, 1, 1, 1, 1, 1, 1, 1, 1, 1, 1, 1, 1, 1, 1, 1, 1, 1, 1, 1,\n",
       "       1, 1, 1, 1, 1, 1, 1, 1, 1, 1, 1, 1, 1, 1, 1, 1, 1, 1, 1, 1, 1, 1,\n",
       "       1, 1, 1, 1, 1, 1, 1, 1, 1, 1, 1, 1, 1, 1, 1, 1, 1, 1, 1, 1, 1, 1,\n",
       "       1, 1, 1, 1, 1, 1, 1, 1, 1, 1, 1, 1, 1, 1, 1, 1, 1, 1, 1, 1, 1, 1,\n",
       "       1, 1, 1, 1, 1, 1, 1, 1, 1, 1, 1, 1, 1, 1, 1, 1, 1, 1, 1, 1, 1, 1,\n",
       "       1, 1, 1, 1, 1, 1, 1, 1, 1, 1, 1, 1, 1, 1, 1, 1, 1, 1, 1, 1, 1, 1,\n",
       "       1, 1], dtype=int64)"
      ]
     },
     "execution_count": 71,
     "metadata": {},
     "output_type": "execute_result"
    }
   ],
   "source": [
    "#### Before training, let's see what the model would predict for validation data\n",
    "## generate validation data\n",
    "G = generate_batches(data_val, y_val, 200, learn_window, predict_window)\n",
    "X_val_batch, y_val_batch = next(G)\n",
    "\n",
    "np.argmax(model_1d.predict(X_val_batch),axis=1)"
   ]
  },
  {
   "cell_type": "code",
   "execution_count": 72,
   "id": "traditional-plastic",
   "metadata": {},
   "outputs": [
    {
     "name": "stdout",
     "output_type": "stream",
     "text": [
      "Epoch 1/10\n",
      "300/300 [==============================] - 22s 74ms/step - loss: 0.6971 - acc: 0.4899 - val_loss: 0.6946 - val_acc: 0.5500\n",
      "Epoch 2/10\n",
      "300/300 [==============================] - 20s 66ms/step - loss: 0.6971 - acc: 0.4948 - val_loss: 0.6951 - val_acc: 0.5500\n",
      "Epoch 3/10\n",
      "300/300 [==============================] - 20s 67ms/step - loss: 0.6965 - acc: 0.5076 - val_loss: 0.6940 - val_acc: 0.5500\n",
      "Epoch 4/10\n",
      "300/300 [==============================] - 21s 68ms/step - loss: 0.6966 - acc: 0.4941 - val_loss: 0.6952 - val_acc: 0.5500\n",
      "Epoch 5/10\n",
      "300/300 [==============================] - 21s 69ms/step - loss: 0.6964 - acc: 0.5042 - val_loss: 0.6963 - val_acc: 0.4850\n",
      "Epoch 6/10\n",
      "300/300 [==============================] - 25s 83ms/step - loss: 0.6960 - acc: 0.5073 - val_loss: 0.6965 - val_acc: 0.4500\n",
      "Epoch 7/10\n",
      "300/300 [==============================] - 23s 78ms/step - loss: 0.6958 - acc: 0.5131 - val_loss: 0.6933 - val_acc: 0.5500\n",
      "Epoch 8/10\n",
      "300/300 [==============================] - 26s 85ms/step - loss: 0.6960 - acc: 0.5101 - val_loss: 0.6945 - val_acc: 0.5500\n",
      "Epoch 9/10\n",
      "300/300 [==============================] - 23s 77ms/step - loss: 0.6959 - acc: 0.5064 - val_loss: 0.6966 - val_acc: 0.4500\n",
      "Epoch 10/10\n",
      "300/300 [==============================] - 24s 82ms/step - loss: 0.6958 - acc: 0.5097 - val_loss: 0.6950 - val_acc: 0.5500\n"
     ]
    },
    {
     "data": {
      "text/plain": [
       "<tensorflow.python.keras.callbacks.History at 0x1be11528630>"
      ]
     },
     "execution_count": 72,
     "metadata": {},
     "output_type": "execute_result"
    }
   ],
   "source": [
    "## train\n",
    "G = generate_batches(data_train, y_train, batch_size, learn_window, predict_window)\n",
    "\n",
    "model_1d.fit(G, steps_per_epoch=300, epochs=10, validation_data=(X_val_batch, y_val_batch))"
   ]
  },
  {
   "cell_type": "code",
   "execution_count": 73,
   "id": "educated-medication",
   "metadata": {
    "scrolled": true
   },
   "outputs": [
    {
     "name": "stdout",
     "output_type": "stream",
     "text": [
      "Lets see what the model is predicting for the validation data set\n"
     ]
    },
    {
     "data": {
      "text/plain": [
       "array([0, 0, 0, 0, 0, 0, 0, 0, 0, 0, 0, 0, 0, 0, 0, 0, 0, 0, 0, 0, 0, 0,\n",
       "       0, 0, 0, 0, 0, 0, 0, 0, 0, 0, 0, 0, 0, 0, 0, 0, 0, 0, 0, 0, 0, 0,\n",
       "       0, 0, 0, 0, 0, 0, 0, 0, 0, 0, 0, 0, 0, 0, 0, 0, 0, 0, 0, 0, 0, 0,\n",
       "       0, 0, 0, 0, 0, 0, 0, 0, 0, 0, 0, 0, 0, 0, 0, 0, 0, 0, 0, 0, 0, 0,\n",
       "       0, 0, 0, 0, 0, 0, 0, 0, 0, 0, 0, 0, 0, 0, 0, 0, 0, 0, 0, 0, 0, 0,\n",
       "       0, 0, 0, 0, 0, 0, 0, 0, 0, 0, 0, 0, 0, 0, 0, 0, 0, 0, 0, 0, 0, 0,\n",
       "       0, 0, 0, 0, 0, 0, 0, 0, 0, 0, 0, 0, 0, 0, 0, 0, 0, 0, 0, 0, 0, 0,\n",
       "       0, 0, 0, 0, 0, 0, 0, 0, 0, 0, 0, 0, 0, 0, 0, 0, 0, 0, 0, 0, 0, 0,\n",
       "       0, 0, 0, 0, 0, 0, 0, 0, 0, 0, 0, 0, 0, 0, 0, 0, 0, 0, 0, 0, 0, 0,\n",
       "       0, 0], dtype=int64)"
      ]
     },
     "execution_count": 73,
     "metadata": {},
     "output_type": "execute_result"
    }
   ],
   "source": [
    "print('Lets see what the model is predicting for the validation data set')\n",
    "np.argmax(model_1d.predict(X_val_batch),axis=1)"
   ]
  },
  {
   "cell_type": "code",
   "execution_count": 74,
   "id": "martial-penetration",
   "metadata": {},
   "outputs": [
    {
     "data": {
      "image/png": "[encoded data removed]",
      "text/plain": [
       "<Figure size 432x288 with 1 Axes>"
      ]
     },
     "metadata": {
      "needs_background": "light"
     },
     "output_type": "display_data"
    }
   ],
   "source": [
    "train_loss = model_1d.history.history['loss']\n",
    "val_loss = model_1d.history.history['val_loss']\n",
    "\n",
    "plt.plot(train_loss, '-o', label='train')\n",
    "plt.plot(val_loss, '-o', label='val')\n",
    "plt.ylabel('loss (MSE)')\n",
    "plt.xlabel('epoch')\n",
    "plt.yscale('log')\n",
    "plt.legend()\n",
    "plt.show()"
   ]
  },
  {
   "cell_type": "markdown",
   "id": "registered-recruitment",
   "metadata": {},
   "source": [
    "# Now use 35 of all the data, which are most of the daily datas."
   ]
  },
  {
   "cell_type": "code",
   "execution_count": 41,
   "id": "dense-wilderness",
   "metadata": {
    "scrolled": true
   },
   "outputs": [
    {
     "data": {
      "image/png": "[encoded data removed]",
      "text/plain": [
       "<Figure size 432x288 with 1 Axes>"
      ]
     },
     "metadata": {
      "needs_background": "light"
     },
     "output_type": "display_data"
    },
    {
     "name": "stdout",
     "output_type": "stream",
     "text": [
      "Some examples of differences [ 0.01060003  0.01060003  0.01060003  0.00559998  0.00310004  0.00730002\n",
      "  0.00220001 -0.00120002 -0.00120002 -0.00120002  0.0025     -0.0007\n",
      " -0.00339997 -0.0029      0.00239998  0.00239998  0.00239998 -0.00099999\n",
      "  0.00260001 -0.00190002]\n",
      "Some examples of the labels [ 1  1  1  1  1  1  1  0  0  0  1  0 -1 -1  1  1  1  0  1 -1]\n",
      "0.34685714285714286 fraction of data has z>boundary\n",
      "0.35005714285714284 fraction of data has z<boundary\n"
     ]
    }
   ],
   "source": [
    "## Prediction is the closing-opening price of next day. \n",
    "## There are three categories: very positive, neglible, very negative, corresponding to class 2,0,1, respectively. \n",
    "## The classifation depends on the data's \"Z score\". \n",
    "## It's not the actual Z score because we only take (opening-closing)/std, so that the signs are conserved. \n",
    "## The boundary Z score is a hyperparameter that should be tuned.\n",
    "\n",
    "boundary = 0.3   #Tunable hyperparameter. Right now roughly 1/3 of the data have Z>0.3\n",
    "\n",
    "diff = data[:,0]-data[:,1]\n",
    "\n",
    "#visualize the difference\n",
    "plt.plot(diff)   ##The differences are zero before year 1997-01-17\n",
    "plt.show()\n",
    "\n",
    "y = np.zeros_like(diff)\n",
    "#mu = diff.mean()\n",
    "sigma = diff.std()\n",
    "z_scores = diff/sigma\n",
    "y[z_scores > boundary] = 1\n",
    "y[z_scores < -boundary] = -1\n",
    "y = y.astype(np.int8)\n",
    "\n",
    "print('Some examples of differences', diff[0:20])\n",
    "print('Some examples of the labels', y[0:20])\n",
    "\n",
    "print(np.count_nonzero(z_scores > boundary)/y.size, 'fraction of data has z>boundary')\n",
    "print(np.count_nonzero(z_scores < -boundary)/y.size, 'fraction of data has z<boundary')"
   ]
  },
  {
   "cell_type": "code",
   "execution_count": null,
   "id": "korean-movie",
   "metadata": {},
   "outputs": [],
   "source": [
    "keeplist = [0,1,2,3,4,5,7,8,27,28,29,30,31,32,33,34,35,36,62,63,64,65,66,67,68,69,70,71,72,73,82,83,84,85,86]\n",
    "data = fulldata[:,keeplist]"
   ]
  },
  {
   "cell_type": "code",
   "execution_count": 38,
   "id": "dimensional-trance",
   "metadata": {},
   "outputs": [
    {
     "name": "stdout",
     "output_type": "stream",
     "text": [
      "(7, 50, 4)\n",
      "(7, 1)\n"
     ]
    }
   ],
   "source": [
    "def generate_batches(data, label, batch_size, learn_window, predict_window, seed=None):\n",
    "    \"\"\"\n",
    "    Randomly generate batches of windows, with replacement.\n",
    "    \n",
    "    - data: array, shape = (N, C)\n",
    "    - batch_size: integer\n",
    "    - learn_window: array of indices to learn from.\n",
    "    - predict_window: array of indices to predict.\n",
    "    - seed: seed for RNG, if any\n",
    "    \n",
    "    e.g. if learn_window = [0, 1, 2, ..., 9] and predict_window = [0, 1, 2, 3, 4],\n",
    "    then learn on 10 days and try to predict next 5 days.\n",
    "    \n",
    "    returns: generator that yields random (X, y)\n",
    "    - X: shape = (B, len(learn_window), C)\n",
    "    - y: shape = (B, len(predict_window))\n",
    "    \"\"\"\n",
    "    \n",
    "    if seed != None:\n",
    "        np.random.seed(seed)\n",
    "        \n",
    "    learn_window = np.array(learn_window)\n",
    "    num_classes = np.array(predict_window)\n",
    "    \n",
    "    N, C = data.shape\n",
    "    L, P = len(learn_window), len(predict_window)\n",
    "    Lcap, Pcap = int(np.max(learn_window))+1, int(np.max(predict_window))+1\n",
    "    \n",
    "    X = np.zeros((batch_size, L, C))\n",
    "    y = np.zeros((batch_size, P))\n",
    "    \n",
    "    i = 0 # tracks index\n",
    "    k = 0 # tracks batch size\n",
    "    M = N - Lcap - Pcap # ceiling for i\n",
    "    while True:\n",
    "        \n",
    "        if k == batch_size:\n",
    "            k = 0\n",
    "            yield X, y\n",
    "            \n",
    "        i = np.random.randint(0, M)\n",
    "        X[k] = data[i+learn_window,:]\n",
    "        y[k] = label[i+Lcap+predict_window] \n",
    "        \n",
    "        k += 1\n",
    "\n",
    "        \n",
    "## short test; should not throw error\n",
    "G = generate_batches(data, y, 7, np.arange(50), np.arange(1))\n",
    "\n",
    "X_batch, y_batch = next(G)\n",
    "print(X_batch.shape)\n",
    "print(y_batch.shape)"
   ]
  },
  {
   "cell_type": "code",
   "execution_count": 184,
   "id": "fantastic-buddy",
   "metadata": {
    "scrolled": false
   },
   "outputs": [
    {
     "name": "stdout",
     "output_type": "stream",
     "text": [
      "Training: (6171, 35)\n",
      "Testing: (500, 35)\n",
      "Validation: (1000, 35)\n"
     ]
    }
   ],
   "source": [
    "## split into training, validation, and testing sets\n",
    "data_train = data[:-1500, :]\n",
    "y_train = y[:-1500]\n",
    "data_val = data[-1500:-500, :]\n",
    "y_val=y[-1500:-500]\n",
    "data_test = data[-500:,:]\n",
    "y_test = y[-500:]\n",
    "print(\"Training:\", data_train.shape)\n",
    "print(\"Testing:\", data_test.shape)\n",
    "print(\"Validation:\", data_val.shape)"
   ]
  },
  {
   "cell_type": "code",
   "execution_count": 265,
   "id": "present-storm",
   "metadata": {},
   "outputs": [
    {
     "name": "stdout",
     "output_type": "stream",
     "text": [
      "Model: \"sequential_38\"\n",
      "_________________________________________________________________\n",
      "Layer (type)                 Output Shape              Param #   \n",
      "=================================================================\n",
      "gru_51 (GRU)                 (None, 40, 100)           40800     \n",
      "_________________________________________________________________\n",
      "gru_52 (GRU)                 (None, 40, 100)           60300     \n",
      "_________________________________________________________________\n",
      "gru_53 (GRU)                 (None, 50)                22650     \n",
      "_________________________________________________________________\n",
      "dense_27 (Dense)             (None, 3)                 153       \n",
      "=================================================================\n",
      "Total params: 123,903\n",
      "Trainable params: 123,903\n",
      "Non-trainable params: 0\n",
      "_________________________________________________________________\n"
     ]
    }
   ],
   "source": [
    "## ===== model hyperparameters ======================\n",
    "learn_window = np.arange(40)    ## learn from past 40 days, which is two month. \n",
    "predict_window = np.arange(1)   ## predict next day\n",
    "\n",
    "batch_size = 50\n",
    "initial_learning_rate = 1e-4    \n",
    "decay_steps = 300\n",
    "decay_rate = 0.9\n",
    "L1reg = 0.001\n",
    "L2reg = 0.001\n",
    "drop_prob = 0.2\n",
    "\n",
    "## ==================================================\n",
    "\n",
    "_, C = data_train.shape\n",
    "L, P = len(learn_window), len(predict_window)\n",
    "\n",
    "lr_schedule = keras.optimizers.schedules.ExponentialDecay(\n",
    "    initial_learning_rate=initial_learning_rate, \n",
    "    decay_steps=decay_steps, \n",
    "    decay_rate=decay_rate)\n",
    "opt = keras.optimizers.Adam(learning_rate=lr_schedule)\n",
    "#opt = keras.optimizers.Adam(learning_rate=initial_learning_rate)\n",
    "\n",
    "model_1d = models.Sequential()\n",
    "model_1d.add(layers.GRU(100, input_shape=(L, C), kernel_regularizer=keras.regularizers.l1(L1reg),return_sequences=True,dropout=drop_prob))\n",
    "model_1d.add(layers.GRU(100, kernel_regularizer = keras.regularizers.l1(L1reg),return_sequences=True,dropout=drop_prob))\n",
    "model_1d.add(layers.GRU(50, kernel_regularizer = keras.regularizers.l2(L2reg)))\n",
    "model_1d.add(layers.Dense(3, kernel_regularizer = keras.regularizers.l2(L2reg), activation='softmax')) #3 output categories\n",
    "model_1d.compile(optimizer=opt, loss=keras.losses.SparseCategoricalCrossentropy(), metrics = ['accuracy'])\n",
    "model_1d.summary()\n",
    "\n",
    "## Add dropout?\n",
    "## Add regularization? "
   ]
  },
  {
   "cell_type": "code",
   "execution_count": 258,
   "id": "federal-shelter",
   "metadata": {},
   "outputs": [],
   "source": [
    "## generate test data\n",
    "G = generate_batches(data_val, y_val, 100, learn_window, predict_window)\n",
    "X_val_batch, y_val_batch = next(G)"
   ]
  },
  {
   "cell_type": "code",
   "execution_count": 144,
   "id": "confused-compatibility",
   "metadata": {
    "scrolled": true
   },
   "outputs": [
    {
     "name": "stdout",
     "output_type": "stream",
     "text": [
      "WARNING:tensorflow:From C:\\Users\\lkkcp\\anaconda3\\envs\\tf7\\lib\\site-packages\\tensorflow\\python\\ops\\math_grad.py:1250: add_dispatch_support.<locals>.wrapper (from tensorflow.python.ops.array_ops) is deprecated and will be removed in a future version.\n",
      "Instructions for updating:\n",
      "Use tf.where in 2.0, which has the same broadcast rule as np.where\n",
      "1/1 [==============================] - 2s 2s/sample - loss: 1.3219 - acc: 0.0000e+00\n",
      "1/1 [==============================] - 0s 232ms/sample - loss: 0.0577 - acc: 1.0000\n"
     ]
    },
    {
     "data": {
      "text/plain": [
       "[0.057696934789419174, 1.0]"
      ]
     },
     "execution_count": 144,
     "metadata": {},
     "output_type": "execute_result"
    }
   ],
   "source": [
    "## train on one data point as test\n",
    "G = generate_batches(data_train, y_train, 1, learn_window, predict_window)\n",
    "X_train_batch, y_train_batch = next(G)\n",
    "\n",
    "model_1d.fit(X_train_batch, y_train_batch, batch_size=1)\n",
    "model_1d.evaluate(X_train_batch, y_train_batch, batch_size=1)"
   ]
  },
  {
   "cell_type": "code",
   "execution_count": 266,
   "id": "latter-legend",
   "metadata": {},
   "outputs": [
    {
     "name": "stdout",
     "output_type": "stream",
     "text": [
      "Epoch 1/10\n",
      "300/300 [==============================] - 76s 253ms/step - loss: 3.3540 - acc: 0.3784 - val_loss: 3.0040 - val_acc: 0.3400\n",
      "Epoch 2/10\n",
      "300/300 [==============================] - 73s 243ms/step - loss: 2.6834 - acc: 0.3791 - val_loss: 2.4569 - val_acc: 0.3400\n",
      "Epoch 3/10\n",
      "300/300 [==============================] - 79s 265ms/step - loss: 2.2200 - acc: 0.3964 - val_loss: 2.0670 - val_acc: 0.3500\n",
      "Epoch 4/10\n",
      "300/300 [==============================] - 82s 274ms/step - loss: 1.9185 - acc: 0.3977 - val_loss: 1.8438 - val_acc: 0.3500\n",
      "Epoch 5/10\n",
      "300/300 [==============================] - 89s 298ms/step - loss: 1.7394 - acc: 0.3902 - val_loss: 1.7389 - val_acc: 0.3400\n",
      "Epoch 6/10\n",
      "300/300 [==============================] - 84s 279ms/step - loss: 1.6494 - acc: 0.3954 - val_loss: 1.6871 - val_acc: 0.3400\n",
      "Epoch 7/10\n",
      "300/300 [==============================] - 83s 276ms/step - loss: 1.6051 - acc: 0.3870 - val_loss: 1.6320 - val_acc: 0.3400\n",
      "Epoch 8/10\n",
      "300/300 [==============================] - 82s 273ms/step - loss: 1.5644 - acc: 0.3973 - val_loss: 1.6014 - val_acc: 0.3400\n",
      "Epoch 9/10\n",
      "300/300 [==============================] - 85s 283ms/step - loss: 1.5324 - acc: 0.3977 - val_loss: 1.5927 - val_acc: 0.3400\n",
      "Epoch 10/10\n",
      "300/300 [==============================] - 93s 311ms/step - loss: 1.5053 - acc: 0.4063 - val_loss: 1.5570 - val_acc: 0.3400\n"
     ]
    },
    {
     "data": {
      "text/plain": [
       "<tensorflow.python.keras.callbacks.History at 0x24c0e3a0940>"
      ]
     },
     "execution_count": 266,
     "metadata": {},
     "output_type": "execute_result"
    }
   ],
   "source": [
    "## train!\n",
    "G = generate_batches(data_train, y_train, batch_size, learn_window, predict_window)\n",
    "\n",
    "model_1d.fit(G, steps_per_epoch=300, epochs=10, validation_data=(X_val_batch, y_val_batch))"
   ]
  },
  {
   "cell_type": "markdown",
   "id": "handed-transmission",
   "metadata": {},
   "source": [
    "comment: it looks like validation loss is less than training loss. This is actually due to the fact that the training data is just harder to model than the testing data. This is not a bug, since if I validate on the testing data I get roughly similar losses. At least, this assures us that our model is not overfitting. Also, the training loss is a running average over the epoch, so is over-estimated in the beginning."
   ]
  },
  {
   "cell_type": "code",
   "execution_count": 193,
   "id": "domestic-combining",
   "metadata": {
    "scrolled": true
   },
   "outputs": [
    {
     "data": {
      "image/png": "[encoded data removed]",
      "text/plain": [
       "<Figure size 432x288 with 1 Axes>"
      ]
     },
     "metadata": {
      "needs_background": "light"
     },
     "output_type": "display_data"
    }
   ],
   "source": [
    "train_loss = model_1d.history.history['loss']\n",
    "val_loss = model_1d.history.history['val_loss']\n",
    "\n",
    "plt.plot(train_loss, '-o', label='train')\n",
    "plt.plot(val_loss, '-o', label='val')\n",
    "plt.ylabel('loss (MSE)')\n",
    "plt.xlabel('epoch')\n",
    "plt.yscale('log')\n",
    "plt.legend()\n",
    "plt.show()"
   ]
  },
  {
   "cell_type": "code",
   "execution_count": 267,
   "id": "adult-bullet",
   "metadata": {},
   "outputs": [],
   "source": [
    "## See what the model is predicting for the validation data\n",
    "N, C = data_val.shape\n",
    "L, P = len(learn_window), len(predict_window)\n",
    "Lcap, Pcap = int(np.max(learn_window))+1, int(np.max(predict_window))+1\n",
    "M = N - Lcap - Pcap # ceiling for i\n",
    "X_learn = np.zeros((M, L, C))\n",
    "for i in range(M):\n",
    "    X_learn[i] = data_val[i+learn_window]\n",
    "pred = np.argmax(model_1d.predict(X_learn),axis=1)"
   ]
  },
  {
   "cell_type": "code",
   "execution_count": 268,
   "id": "selected-james",
   "metadata": {},
   "outputs": [
    {
     "data": {
      "text/plain": [
       "array([1, 1, 1, 1, 1, 1, 1, 1, 1, 1, 1, 1, 1, 1, 1, 1, 1, 1, 1, 1, 1, 1,\n",
       "       1, 1, 1, 1, 1, 1, 1, 1, 1, 1, 1, 1, 1, 1, 1, 1, 1, 1, 1, 1, 1, 1,\n",
       "       1, 1, 1, 1, 1, 1, 1, 1, 1, 1, 1, 1, 1, 1, 1, 1, 1, 1, 1, 1, 1, 1,\n",
       "       1, 1, 1, 1, 1, 1, 1, 1, 1, 1, 1, 1, 1, 1, 1, 1, 1, 1, 1, 1, 1, 1,\n",
       "       1, 1, 1, 1, 1, 1, 1, 1, 1, 1, 1, 1, 1, 1, 1, 1, 1, 1, 1, 1, 1, 1,\n",
       "       1, 1, 1, 1, 1, 1, 1, 1, 1, 1, 1, 1, 1, 1, 1, 1, 1, 1, 1, 1, 1, 1,\n",
       "       1, 1, 1, 1, 1, 1, 1, 1, 1, 1, 1, 1, 1, 1, 1, 1, 1, 1, 1, 1, 1, 1,\n",
       "       1, 1, 1, 1, 1, 1, 1, 1, 1, 1, 1, 1, 1, 1, 1, 1, 1, 1, 1, 1, 1, 1,\n",
       "       1, 1, 1, 1, 1, 1, 1, 1, 1, 1, 1, 1, 1, 1, 1, 1, 1, 1, 1, 1, 1, 1,\n",
       "       1, 1, 1, 1, 1, 1, 1, 1, 1, 1, 1, 1, 1, 1, 1, 1, 1, 1, 1, 1, 1, 1,\n",
       "       1, 1, 1, 1, 1, 1, 1, 1, 1, 1, 1, 1, 1, 1, 1, 1, 1, 1, 1, 1, 1, 1,\n",
       "       1, 1, 1, 1, 1, 1, 1, 1, 1, 1, 1, 1, 1, 1, 1, 1, 1, 1, 1, 1, 1, 1,\n",
       "       1, 1, 1, 1, 1, 1, 1, 1, 1, 1, 1, 1, 1, 1, 1, 1, 1, 1, 1, 1, 1, 1,\n",
       "       1, 1, 1, 1, 1, 1, 1, 1, 1, 1, 1, 1, 1, 1, 1, 1, 1, 1, 1, 1, 1, 1,\n",
       "       1, 1, 1, 1, 1, 1, 1, 1, 1, 1, 1, 1, 1, 1, 1, 1, 1, 1, 1, 1, 1, 1,\n",
       "       1, 1, 1, 1, 1, 1, 1, 1, 1, 1, 1, 1, 1, 1, 1, 1, 1, 1, 1, 1, 1, 1,\n",
       "       1, 1, 1, 1, 1, 1, 1, 1, 1, 1, 1, 1, 1, 1, 1, 1, 1, 1, 1, 1, 1, 1,\n",
       "       1, 1, 1, 1, 1, 1, 1, 1, 1, 1, 1, 1, 1, 1, 1, 1, 1, 1, 1, 1, 1, 1,\n",
       "       1, 1, 1, 1, 1, 1, 1, 1, 1, 1, 1, 1, 1, 1, 1, 1, 1, 1, 1, 1, 1, 1,\n",
       "       1, 1, 1, 1, 1, 1, 1, 1, 1, 1, 1, 1, 1, 1, 1, 1, 1, 1, 1, 1, 1, 1,\n",
       "       1, 1, 1, 1, 1, 1, 1, 1, 1, 1, 1, 1, 1, 1, 1, 1, 1, 1, 1, 1, 1, 1,\n",
       "       1, 1, 1, 1, 1, 1, 1, 1, 1, 1, 1, 1, 1, 1, 1, 1, 1, 1, 1, 1, 1, 1,\n",
       "       1, 1, 1, 1, 1, 1, 1, 1, 1, 1, 1, 1, 1, 1, 1, 1, 1, 1, 1, 1, 1, 1,\n",
       "       1, 1, 1, 1, 1, 1, 1, 1, 1, 1, 1, 1, 1, 1, 1, 1, 1, 1, 1, 1, 1, 1,\n",
       "       1, 1, 1, 1, 1, 1, 1, 1, 1, 1, 1, 1, 1, 1, 1, 1, 1, 1, 1, 1, 1, 1,\n",
       "       1, 1, 1, 1, 1, 1, 1, 1, 1, 1, 1, 1, 1, 1, 1, 1, 1, 1, 1, 1, 1, 1,\n",
       "       1, 1, 1, 1, 1, 1, 1, 1, 1, 1, 1, 1, 1, 1, 1, 1, 1, 1, 1, 1, 1, 1,\n",
       "       1, 1, 1, 1, 1, 1, 1, 1, 1, 1, 1, 1, 1, 1, 1, 1, 1, 1, 1, 1, 1, 1,\n",
       "       1, 1, 1, 1, 1, 1, 1, 1, 1, 1, 1, 1, 1, 1, 1, 1, 1, 1, 1, 1, 1, 1,\n",
       "       1, 1, 1, 1, 1, 1, 1, 1, 1, 1, 1, 1, 1, 1, 1, 1, 1, 1, 1, 1, 1, 1,\n",
       "       1, 1, 1, 1, 1, 1, 1, 1, 1, 1, 1, 1, 1, 1, 1, 1, 1, 1, 1, 1, 1, 1,\n",
       "       1, 1, 1, 1, 1, 1, 1, 1, 1, 1, 1, 1, 1, 1, 1, 1, 1, 1, 1, 1, 1, 1,\n",
       "       1, 1, 1, 1, 1, 1, 1, 1, 1, 1, 1, 1, 1, 1, 1, 1, 1, 1, 1, 1, 1, 1,\n",
       "       1, 1, 1, 1, 1, 1, 1, 1, 1, 1, 1, 1, 1, 1, 1, 1, 1, 1, 1, 1, 1, 1,\n",
       "       1, 1, 1, 1, 1, 1, 1, 1, 1, 1, 1, 1, 1, 1, 1, 1, 1, 1, 1, 1, 1, 1,\n",
       "       1, 1, 1, 1, 1, 1, 1, 1, 1, 1, 1, 1, 1, 1, 1, 1, 1, 1, 1, 1, 1, 1,\n",
       "       1, 1, 1, 1, 1, 1, 1, 1, 1, 1, 1, 1, 1, 1, 1, 1, 1, 1, 1, 1, 1, 1,\n",
       "       1, 1, 1, 1, 1, 1, 1, 1, 1, 1, 1, 1, 1, 1, 1, 1, 1, 1, 1, 1, 1, 1,\n",
       "       1, 1, 1, 1, 1, 1, 1, 1, 1, 1, 1, 1, 1, 1, 1, 1, 1, 1, 1, 1, 1, 1,\n",
       "       1, 1, 1, 1, 1, 1, 1, 1, 1, 1, 1, 1, 1, 1, 1, 1, 1, 1, 1, 1, 1, 1,\n",
       "       1, 1, 1, 1, 1, 1, 1, 1, 1, 1, 1, 1, 1, 1, 1, 1, 1, 1, 1, 1, 1, 1,\n",
       "       1, 1, 1, 1, 1, 1, 1, 1, 1, 1, 1, 1, 1, 1, 1, 1, 1, 1, 1, 1, 1, 1,\n",
       "       1, 1, 1, 1, 1, 1, 1, 1, 1, 1, 1, 1, 1, 1, 1, 1, 1, 1, 1, 1, 1, 1,\n",
       "       1, 1, 1, 1, 1, 1, 1, 1, 1, 1, 1, 1, 1], dtype=int64)"
      ]
     },
     "execution_count": 268,
     "metadata": {},
     "output_type": "execute_result"
    }
   ],
   "source": [
    "pred"
   ]
  },
  {
   "cell_type": "markdown",
   "id": "negative-equality",
   "metadata": {},
   "source": [
    "Keep getting models that just predict one single category...."
   ]
  },
  {
   "cell_type": "code",
   "execution_count": 251,
   "id": "backed-former",
   "metadata": {},
   "outputs": [
    {
     "name": "stdout",
     "output_type": "stream",
     "text": [
      "Trading according to prediction, one makes\n",
      "-0.085601985\n",
      "Trading everyday with close-open price difference, one makes\n",
      "0.16300136\n",
      "Trading optimally, one would make\n",
      "2.617801\n"
     ]
    }
   ],
   "source": [
    "###  Compare trading using the predicted values versus just adding close-open.\n",
    "print('Trading according to prediction, one makes')\n",
    "print(np.sum(diff[-1500+Lcap+1:-500][pred==2])-np.sum(diff[-1500+Lcap+1:-500][pred==1]))\n",
    "print('Trading everyday with close-open price difference, one makes')\n",
    "print(np.sum(diff[-1500+Lcap+1:-500]))\n",
    "print('Trading optimally, one would make')\n",
    "print(np.sum(diff[-1500:-500][y_val==2])-np.sum(diff[-1500:-500][y_val==1]))"
   ]
  },
  {
   "cell_type": "code",
   "execution_count": null,
   "id": "tropical-hobby",
   "metadata": {},
   "outputs": [],
   "source": []
  }
 ],
 "metadata": {
  "kernelspec": {
   "display_name": "Python 3",
   "language": "python",
   "name": "python3"
  },
  "language_info": {
   "codemirror_mode": {
    "name": "ipython",
    "version": 3
   },
   "file_extension": ".py",
   "mimetype": "text/x-python",
   "name": "python",
   "nbconvert_exporter": "python",
   "pygments_lexer": "ipython3",
   "version": "3.6.12"
  }
 },
 "nbformat": 4,
 "nbformat_minor": 5
}
